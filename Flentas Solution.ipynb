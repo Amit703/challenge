{
 "cells": [
  {
   "cell_type": "code",
   "execution_count": 1,
   "metadata": {},
   "outputs": [
    {
     "name": "stdout",
     "output_type": "stream",
     "text": [
      "Yes\n"
     ]
    }
   ],
   "source": [
    "def arePermutation(str1, str2):\n",
    "     \n",
    "    # Get lengths of both strings\n",
    "    n1 = len(str1)\n",
    "    n2 = len(str2)\n",
    " \n",
    "    # If length of both strings is not same,\n",
    "    # then they cannot be Permutation\n",
    "    if (n1 != n2):\n",
    "        return False\n",
    " \n",
    "    # Sort both strings\n",
    "    a = sorted(str1)\n",
    "    str1 = \" \".join(a)\n",
    "    b = sorted(str2)\n",
    "    str2 = \" \".join(b)\n",
    " \n",
    "    # Compare sorted strings\n",
    "    for i in range(0, n1, 1):\n",
    "        if (str1[i] != str2[i]):\n",
    "            return False\n",
    " \n",
    "    return True\n",
    " \n",
    "# Driver Code\n",
    "if __name__ == '__main__':\n",
    "    str1 = \"indiahack\"\n",
    "    str2 = \"indiahack\"\n",
    "    if (arePermutation(str1, str2)):\n",
    "        print(\"Yes\")\n",
    "    else:\n",
    "        print(\"No\")"
   ]
  },
  {
   "cell_type": "code",
   "execution_count": null,
   "metadata": {},
   "outputs": [],
   "source": []
  }
 ],
 "metadata": {
  "kernelspec": {
   "display_name": "Python 3",
   "language": "python",
   "name": "python3"
  },
  "language_info": {
   "codemirror_mode": {
    "name": "ipython",
    "version": 3
   },
   "file_extension": ".py",
   "mimetype": "text/x-python",
   "name": "python",
   "nbconvert_exporter": "python",
   "pygments_lexer": "ipython3",
   "version": "3.7.4"
  }
 },
 "nbformat": 4,
 "nbformat_minor": 2
}
